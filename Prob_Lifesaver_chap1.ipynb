{
 "cells": [
  {
   "cell_type": "markdown",
   "metadata": {},
   "source": [
    "Fibonacci Function "
   ]
  },
  {
   "cell_type": "code",
   "execution_count": 61,
   "metadata": {},
   "outputs": [
    {
     "name": "stdout",
     "output_type": "stream",
     "text": [
      "Fibonacci Sequence\n",
      "0\n",
      "1\n",
      "1\n",
      "2\n",
      "3\n",
      "5\n",
      "8\n",
      "13\n",
      "21\n",
      "34\n"
     ]
    }
   ],
   "source": [
    "def recur_fibo(n):\n",
    "    if n<=1:\n",
    "        return n\n",
    "    else:\n",
    "        return (recur_fibo(n-1))+recur_fibo(n-2)\n",
    "    \n",
    "nterms = 10\n",
    "\n",
    "print(\"Fibonacci Sequence\")\n",
    "for i in range(nterms):\n",
    "    print(recur_fibo(i))"
   ]
  },
  {
   "cell_type": "markdown",
   "metadata": {},
   "source": [
    "Diamonds Game Probabilities"
   ]
  },
  {
   "cell_type": "code",
   "execution_count": 1,
   "metadata": {},
   "outputs": [
    {
     "name": "stdout",
     "output_type": "stream",
     "text": [
      "26\n"
     ]
    }
   ],
   "source": [
    "import random\n",
    "#random.seed(6)\n",
    "\n",
    "print(random.randrange(1, 52))"
   ]
  },
  {
   "cell_type": "code",
   "execution_count": 2,
   "metadata": {},
   "outputs": [
    {
     "name": "stdout",
     "output_type": "stream",
     "text": [
      "Playing 100000 games yields:\n",
      "Percent Alice won (approx):  43.107 %\n",
      "Percent Bob won (approx):  32.512 %\n",
      "Percent Charlie won (approx):  24.382 %\n"
     ]
    }
   ],
   "source": [
    "#Number of games n\n",
    "n = 100001\n",
    "alice_wins = 0\n",
    "bob_wins = 0\n",
    "charlie_wins = 0\n",
    "\n",
    "for n in range(0, n):\n",
    "    \n",
    "    diamond = 0\n",
    "    \n",
    "    while diamond == 0:\n",
    "        c1 = random.randrange(1, 53)\n",
    "         \n",
    "        c2 = random.randrange(1, 53)\n",
    "        \n",
    "        c3 = random.randrange(1, 53)\n",
    "        if c1 <=13 or c2 <=13 or c3 <=13:\n",
    "            diamond = 1\n",
    "    \n",
    "    if c1 <= 13:\n",
    "        alice_wins += 1\n",
    "    elif c2 <= 13:\n",
    "        bob_wins += 1\n",
    "    elif c3 <= 13:\n",
    "        charlie_wins += 1\n",
    "             \n",
    "\n",
    "print('Playing', n ,'games yields:')\n",
    "print('Percent Alice won (approx): ', 100*alice_wins/n, '%')\n",
    "print('Percent Bob won (approx): ', 100*bob_wins/n, '%')\n",
    "print('Percent Charlie won (approx): ', 100*charlie_wins/n, '%')"
   ]
  }
 ],
 "metadata": {
  "kernelspec": {
   "display_name": "Python 3",
   "language": "python",
   "name": "python3"
  },
  "language_info": {
   "codemirror_mode": {
    "name": "ipython",
    "version": 3
   },
   "file_extension": ".py",
   "mimetype": "text/x-python",
   "name": "python",
   "nbconvert_exporter": "python",
   "pygments_lexer": "ipython3",
   "version": "3.6.3"
  }
 },
 "nbformat": 4,
 "nbformat_minor": 2
}
