{
  "nbformat": 4,
  "nbformat_minor": 0,
  "metadata": {
    "kernelspec": {
      "display_name": "Python 3",
      "language": "python",
      "name": "python3"
    },
    "language_info": {
      "codemirror_mode": {
        "name": "ipython",
        "version": 3
      },
      "file_extension": ".py",
      "mimetype": "text/x-python",
      "name": "python",
      "nbconvert_exporter": "python",
      "pygments_lexer": "ipython3",
      "version": "3.6.3"
    },
    "colab": {
      "name": "Prob_Lifesaver_chap2.ipynb",
      "provenance": [],
      "collapsed_sections": [],
      "include_colab_link": true
    }
  },
  "cells": [
    {
      "cell_type": "markdown",
      "metadata": {
        "id": "view-in-github",
        "colab_type": "text"
      },
      "source": [
        "<a href=\"https://colab.research.google.com/github/sultanki/probability_lifesaver/blob/main/Prob_Lifesaver_chap2.ipynb\" target=\"_parent\"><img src=\"https://colab.research.google.com/assets/colab-badge.svg\" alt=\"Open In Colab\"/></a>"
      ]
    },
    {
      "cell_type": "markdown",
      "metadata": {
        "id": "PM_WzvoV2Oxw"
      },
      "source": [
        "Description: a program to compute the number of ways of a respresenting an integer as a sum of four squares d^2 + c^2 + b^2 + a^2 with d<=c<=b<=a"
      ]
    },
    {
      "cell_type": "code",
      "metadata": {
        "colab": {
          "base_uri": "https://localhost:8080/"
        },
        "id": "7KJ1tCrQ2OyA",
        "outputId": "513ed124-fe6b-45da-93c5-3dd021c9d0a2"
      },
      "source": [
        "# Number of times m is the sum of four squares\n",
        "# For small number events where m is no greater than 12.\n",
        "import math\n",
        "m = 12\n",
        "count = 0\n",
        "m_list = []\n",
        "for a in [0,1,2,3,4]:\n",
        "  if a<=math.sqrt(m):\n",
        "    a=math.floor(a)\n",
        "    for b in [0,1,2,3]:\n",
        "      if a<=math.sqrt(m) and b<=a  :\n",
        "        b=math.floor(b)\n",
        "        for c in [0,1,2]:\n",
        "          if m>=a*a and a>=b and b>=c and math.floor(a*a + b*b + c*c)<=m:\n",
        "            c=math.floor(c)\n",
        "            d=math.sqrt(m - math.floor(a*a + b*b + c*c))\n",
        "            d=math.floor(d)\n",
        "            if m == (a*a + b*b + c*c + d*d) and d<=c and c<=b and a<=math.sqrt(m) :\n",
        "              count +=1\n",
        "              print(a, b, c, d)\n",
        "          #m_list.append([a, b, c, d])\n",
        "          #print(m_list)\n",
        "        \n",
        "        \n",
        "print('The number of representations of the number', m ,'as a sum of four squares with a>=b>=c>=d is: ', count,'.')"
      ],
      "execution_count": null,
      "outputs": [
        {
          "output_type": "stream",
          "text": [
            "2 2 2 0\n",
            "3 1 1 1\n",
            "The number of representations of the number 12 as a sum of four squares with a>=b>=c>=d is:  2 .\n"
          ],
          "name": "stdout"
        }
      ]
    },
    {
      "cell_type": "code",
      "metadata": {
        "id": "MXz8R5Z62Ox6"
      },
      "source": [
        "# initialize counter for how many times m is the sum of four integer squares\n",
        "# Note that b cannot be more than a and must be less than sqrt(m - a^2)\n"
      ],
      "execution_count": null,
      "outputs": []
    },
    {
      "cell_type": "code",
      "metadata": {
        "colab": {
          "base_uri": "https://localhost:8080/"
        },
        "id": "6x_cOhXu0SGL",
        "outputId": "e31c6aff-13c7-42d1-85de-25186dcb8ad5"
      },
      "source": [
        "# Number of times an integer of m is the sum of four squares \n",
        "# This a more general case where m is a list of larger positive integer and match the information in text on page 45\n",
        "# After doing a smaller case where m is less than or equal to 12 I could more easily expand that here to numbers over 2000\n",
        "\n",
        "import math\n",
        "m = (12, 2013, 2014, 2015, 2016, 2017)  # did this 'for loop' at the very end when it worked for single inputs\n",
        "for i in m:\n",
        "  limit_a = math.ceil(math.sqrt(i))\n",
        "  limit_b = limit_a - 1\n",
        "  limit_c = limit_b - 1\n",
        "  count = 0\n",
        "  m_list = []\n",
        "  for a in range(0, limit_a):\n",
        "    if a<=math.sqrt(i):\n",
        "      a=math.floor(a)\n",
        "      for b in range(0, limit_b):\n",
        "        if a<=math.sqrt(i) and b<=a:\n",
        "          b=math.floor(b)\n",
        "          for c in range(0, limit_c):\n",
        "            if i>=a*a and a>=b and b>=c and math.floor(a*a + b*b + c*c)<=i:\n",
        "              c=math.floor(c)\n",
        "              d=math.sqrt(i - math.floor(a*a + b*b + c*c))\n",
        "              d=math.floor(d)\n",
        "              if i == (a*a + b*b + c*c + d*d) and d<=c and c<=b and a<=math.sqrt(i) :\n",
        "                count +=1\n",
        "                #print(a, b, c, d)\n",
        "          \n",
        "  print('The number of representations of the number', i ,'as a sum of four squares with a>=b>=c>=d is:', count)"
      ],
      "execution_count": null,
      "outputs": [
        {
          "output_type": "stream",
          "text": [
            "The number of representations of the number 12 as a sum of four squares with a>=b>=c>=d is: 1\n",
            "The number of representations of the number 2013 as a sum of four squares with a>=b>=c>=d is: 70\n",
            "The number of representations of the number 2014 as a sum of four squares with a>=b>=c>=d is: 72\n",
            "The number of representations of the number 2015 as a sum of four squares with a>=b>=c>=d is: 61\n",
            "The number of representations of the number 2016 as a sum of four squares with a>=b>=c>=d is: 8\n",
            "The number of representations of the number 2017 as a sum of four squares with a>=b>=c>=d is: 53\n"
          ],
          "name": "stdout"
        }
      ]
    }
  ]
}